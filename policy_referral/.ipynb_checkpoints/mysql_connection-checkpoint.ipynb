{
 "cells": [
  {
   "cell_type": "code",
   "execution_count": 3,
   "metadata": {},
   "outputs": [],
   "source": [
    "import pymysql"
   ]
  },
  {
   "cell_type": "code",
   "execution_count": 4,
   "metadata": {},
   "outputs": [],
   "source": [
    "def select_all():\n",
    "    conn = pymysql.connect(host='localhost', user='root', password='page159!', db='db_test', charset='utf8')\n",
    "    try:\n",
    "        with conn.cursor() as curs:\n",
    "            sql = \"select * from policy\"\n",
    "            curs.execute(sql)\n",
    "            rs = curs.fetchall()\n",
    "            for row in rs:\n",
    "                print(row)\n",
    "    finally:\n",
    "        conn.close()"
   ]
  },
  {
   "cell_type": "code",
   "execution_count": 5,
   "metadata": {},
   "outputs": [
    {
     "name": "stdout",
     "output_type": "stream",
     "text": [
      "(1, '정책 1')\n",
      "(2, '정책 1')\n",
      "(3, '정책 5')\n",
      "(4, '정책 4')\n",
      "(5, '정책 3')\n",
      "(6, '정책 2')\n",
      "(7, '정책 5')\n",
      "(8, '정책 7')\n",
      "(9, '정책 8')\n"
     ]
    }
   ],
   "source": [
    "select_all()"
   ]
  },
  {
   "cell_type": "code",
   "execution_count": null,
   "metadata": {},
   "outputs": [],
   "source": []
  }
 ],
 "metadata": {
  "kernelspec": {
   "display_name": "Python 3",
   "language": "python",
   "name": "python3"
  },
  "language_info": {
   "codemirror_mode": {
    "name": "ipython",
    "version": 3
   },
   "file_extension": ".py",
   "mimetype": "text/x-python",
   "name": "python",
   "nbconvert_exporter": "python",
   "pygments_lexer": "ipython3",
   "version": "3.7.4"
  }
 },
 "nbformat": 4,
 "nbformat_minor": 2
}
