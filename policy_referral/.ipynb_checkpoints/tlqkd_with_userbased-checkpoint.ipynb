{
 "cells": [
  {
   "cell_type": "code",
   "execution_count": null,
   "metadata": {},
   "outputs": [],
   "source": [
    "#sudo apt-get install libmysqlclient-dev\n",
    "#pip install mysqlclient\n",
    "import csv\n",
    "import MySQLdb\n",
    "import tensorflow as tf\n",
    "\n",
    "mydb = MySQLdb.connect(host='localhost',\n",
    "    user='root',\n",
    "    passwd='root')\n",
    "cursor = mydb.cursor()\n",
    "\n",
    "#list of db's\n",
    "dbs = ['mysql']\n",
    "#table name\n",
    "table_name = \"user\"\n",
    "count = 0\n",
    "for i in dbs:\n",
    "## query\n",
    "    query = (\"SELECT * FROM \"+i+\".\"+table_name)\n",
    "    cursor.execute(query)\n",
    "\n",
    "### write to csv file\n",
    "    csv_writer = csv.writer(open(i+\".csv\", \"wt\")) # create csv\n",
    "    csv_writer.writerow([i[0] for i in cursor.description]) # write headers\n",
    "    csv_writer.writerows(cursor) # write records\n",
    "    del csv_writer # close csv file\n",
    "    print(\"Query executed for \"+i)\n",
    "    print(\"Wrote %s rows to csv.\" % cursor.rowcount)\n",
    "    count = len(cursor.description)\n",
    "\n",
    "cursor.close()\n",
    "mydb.close()\n",
    "\n",
    "filename_queue = tf.train.string_input_producer(\n",
    "    [dbs[0]+\".csv\"],\n",
    "    shuffle=True)\n",
    "\n",
    "# Each file will have a header, we skip it and give defaults and type information\n",
    "# for each column below.\n",
    "line_reader = tf.TextLineReader(skip_header_lines=1)\n",
    "\n",
    "_, csv_row = line_reader.read(filename_queue)\n",
    "\n",
    "# Type information and column names based on the decoded CSV.\n",
    "#record_defaults = [[0.0], [0.0], [0.0], [0.0], [\"\"]]\n",
    "record_defaults = [[\"\" for col in range(1)] for row in range(count)]\n",
    "a = tf.decode_csv(csv_row, record_defaults=record_defaults)\n",
    "\n",
    "# Turn the features back into a tensor.\n",
    "features = tf.stack(a[0:count])\n",
    "\n",
    "with tf.Session() as sess:\n",
    "    tf.initialize_all_variables().run()\n",
    "\n",
    "    coord = tf.train.Coordinator()\n",
    "    threads = tf.train.start_queue_runners(coord=coord)\n",
    "\n",
    "    # We do 10 iterations (steps) where we grab an example from the CSV file. \n",
    "    for iteration in range(1, 11):\n",
    "        # Our graph isn't evaluated until we use run unless we're in an interactive session.\n",
    "        example = sess.run([features])\n",
    "\n",
    "        print(example)\n",
    "coord.request_stop()\n",
    "coord.join(threads)"
   ]
  },
  {
   "cell_type": "code",
   "execution_count": null,
   "metadata": {},
   "outputs": [],
   "source": [
    "## 각 가중치에 따라서 맞춰진 정책의 코드 100개\n",
    "## user_based_policy의 코드 100개\n",
    "## 가장 많이 intersect된 경우의 weight와 bias를 구해서 ㅅㅄㅄㅄㅄㅄㅄㅂ"
   ]
  }
 ],
 "metadata": {
  "kernelspec": {
   "display_name": "Python 3",
   "language": "python",
   "name": "python3"
  },
  "language_info": {
   "codemirror_mode": {
    "name": "ipython",
    "version": 3
   },
   "file_extension": ".py",
   "mimetype": "text/x-python",
   "name": "python",
   "nbconvert_exporter": "python",
   "pygments_lexer": "ipython3",
   "version": "3.7.4"
  }
 },
 "nbformat": 4,
 "nbformat_minor": 2
}
