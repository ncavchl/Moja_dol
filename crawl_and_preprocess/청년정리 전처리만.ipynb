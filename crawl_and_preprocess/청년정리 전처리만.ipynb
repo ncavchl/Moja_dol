{
 "cells": [
  {
   "cell_type": "code",
   "execution_count": 1,
   "metadata": {},
   "outputs": [],
   "source": [
    "import pandas as pd\n",
    "import re\n",
    "import numpy as np\n",
    "from konlpy import jvm\n",
    "from konlpy.tag import Okt\n",
    "import datetime"
   ]
  },
  {
   "cell_type": "code",
   "execution_count": 2,
   "metadata": {},
   "outputs": [],
   "source": [
    "df = pd.read_csv('test.csv')"
   ]
  },
  {
   "cell_type": "code",
   "execution_count": 3,
   "metadata": {},
   "outputs": [],
   "source": [
    "pattern = re.compile(r\"\\d+\")\n",
    "pattern_except_space = re.compile(r'[^\\s]+')"
   ]
  },
  {
   "cell_type": "code",
   "execution_count": 4,
   "metadata": {},
   "outputs": [],
   "source": [
    "for idx in df.columns:\n",
    "    df[idx]=df[idx].replace(\"무관\",\"-\")\n",
    "\n",
    "## 정규식 사용, 첫번째 숫자 age start, 두번째 end\n",
    "df['start_age'] = df['연령'].apply(lambda x : pattern.findall(x)[0] if len(pattern.findall(x))>0 else \" \".join(pattern_except_space.findall(x)))\n",
    "df['end_age'] = df['연령'].apply(lambda x : pattern.findall(x)[1] if len(pattern.findall(x))>1 else \" \".join(pattern_except_space.findall(x)))\n",
    "\n",
    "## 이상, 이하 붙은것 처리\n",
    "df['end_age']=df['end_age'].apply(lambda x : \"-\" if \"이상\" in x else x)\n",
    "df['check less'] = df['end_age'].apply(lambda x : True if \"이하\" in x or \"미만\" in x else False)\n",
    "\n",
    "\n",
    "df.loc[df['check less']==True , 'end_age'] = df[df['check less']==True]['start_age']\n",
    "df.loc[df['check less']==True , 'start_age'] = \"-\""
   ]
  },
  {
   "cell_type": "code",
   "execution_count": 5,
   "metadata": {},
   "outputs": [],
   "source": [
    "df['age_except_less']=df['start_age'].apply(lambda x : True if len(pattern.findall(x))<1 else False )\n",
    "df['age_except_more'] = df['start_age'].apply(lambda x : True if len(x) >2 else False)"
   ]
  },
  {
   "cell_type": "code",
   "execution_count": 6,
   "metadata": {},
   "outputs": [],
   "source": [
    "df['age except'] = df['연령'].apply(lambda x : True if \"(\" in x or \"경우\" in x else False)"
   ]
  },
  {
   "cell_type": "code",
   "execution_count": 7,
   "metadata": {},
   "outputs": [],
   "source": [
    "NON=['제한 없음','제한 없음','전 연령']\n",
    "df.loc[df.start_age.isin(NON),'start_age'] = '-'\n",
    "df.loc[df.end_age.isin(NON),'end_age'] = '-'\n",
    "age_except_list = ['1988','재직 경험이 없는 청년']\n",
    "df.loc[df['start_age'].isin(age_except_list),'age except'] = True"
   ]
  },
  {
   "cell_type": "code",
   "execution_count": 8,
   "metadata": {},
   "outputs": [],
   "source": [
    "df['hash_tag'] = df['hash tag'].apply(lambda x : x.replace(',',\"\"))"
   ]
  },
  {
   "cell_type": "code",
   "execution_count": 9,
   "metadata": {},
   "outputs": [],
   "source": [
    "pattern_space = re.compile(r\"[ㄱ-ㅎ가-힣0-9()]+\")\n",
    "pattern_univ = re.compile(r\"(대학[^원생])|(대학$)\")\n",
    "pattern_haksa = re.compile(r\"(학사)\")\n",
    "pattern_high = re.compile(r\"(고교)|(고등학교)\")\n",
    "pattern_master = re.compile(r\"(대학원)|(대학\\(원\\)|(석.{0,5}?사))|(^석$)\")\n",
    "pattern_doc = re.compile(r\"(박.{0,3}사)\")\n",
    "pattern_grad = re.compile(r'(졸업[^예])|(졸업$)')\n",
    "pattern_attend = re.compile(r'(재학)|(과정)')\n",
    "pattern_null = re.compile(r'(무관)|(제한 ?없음)|(-$)')\n",
    "p_more = re.compile(r'이상')\n",
    "p_less = re.compile(r'이하')\n",
    "p_excess = re.compile(r'초과')\n",
    "p_under = re.compile(r'미만')\n",
    "pattern_after_high = re.compile(r'(고졸)')\n",
    "pattern_after_univ = re.compile(r'(대졸)')\n",
    "pattern_attend_high = re.compile(r'고등학생')\n",
    "pattern_attend_univ = re.compile(r'(대학생)|(대생$)')\n",
    "pattern_expected =  re.compile(r'(예정$)')\n",
    "pattern_grad_expected = re.compile(r'(졸업 ?예정.?)|(졸업\\(예정.?\\))')"
   ]
  },
  {
   "cell_type": "code",
   "execution_count": 10,
   "metadata": {},
   "outputs": [],
   "source": [
    "def check_free(x):\n",
    "    res_void = []\n",
    "    if pattern_null.search(x):\n",
    "        return res_void\n",
    "    return pattern_space.findall(x)"
   ]
  },
  {
   "cell_type": "code",
   "execution_count": 11,
   "metadata": {},
   "outputs": [],
   "source": [
    "def check_school_in_list(x):\n",
    "    res = []\n",
    "    \n",
    "    for i in x:\n",
    "        point = [] \n",
    "        if pattern_high.search(i):\n",
    "            point.append('1 고등학교')\n",
    "        if pattern_univ.search(i):\n",
    "            point.append('1 대학교')\n",
    "        if pattern_master.search(i):\n",
    "            point.append('1 석사')\n",
    "        if pattern_doc.search(i):\n",
    "            point.append('1 박사')\n",
    "        if pattern_haksa.search(i):\n",
    "            point.append('1 학사')\n",
    "        \n",
    "        if pattern_attend.search(i):\n",
    "            point.append('2 재학')\n",
    "        if pattern_grad.search(i):\n",
    "            point.append('2 졸업')\n",
    "            \n",
    "        ## 졸업 예정자 == eg \n",
    "        ## 고졸 ah\n",
    "        ## 대졸 auN\n",
    "        \n",
    "        if pattern_grad_expected.search(i):\n",
    "            point.append('23 졸업 예정')\n",
    "            \n",
    "        if pattern_after_high.search(i):\n",
    "            point.append('12 고등학교 졸업')\n",
    "            \n",
    "        if pattern_after_univ.search(i):\n",
    "            point.append('12 대학교 졸업')\n",
    "            \n",
    "        \n",
    "        if pattern_attend_high.search(i):\n",
    "            point.append('12 고등학교 재학')\n",
    "        \n",
    "        if pattern_attend_univ.search(i):\n",
    "            point.append('12 대학교 재학')\n",
    "            \n",
    "        \n",
    "        ## 이상 up\n",
    "        ## 이하 dn\n",
    "        ## 미만 ud\n",
    "        ## 초과 ex\n",
    "        ## 고졸 미만 , 대졸 이상 --> 이상은 없애도 될까? \n",
    "        ## 예정!!!!!!!!!!!!!!!!  ep\n",
    "        \n",
    "        if p_more.search(i):\n",
    "            point.append('3 이상')\n",
    "            \n",
    "        if p_less.search(i):\n",
    "            point.append('3 이하')\n",
    "                \n",
    "        if p_excess.search(i):\n",
    "            point.append('3 초과')\n",
    "            \n",
    "        if p_under.search(i):\n",
    "            point.append('3 미만')\n",
    "            \n",
    "        if pattern_expected.search(i):\n",
    "            point.append('3 예정')\n",
    "        \n",
    "        res.append(point)\n",
    "    return res\n",
    "    "
   ]
  },
  {
   "cell_type": "code",
   "execution_count": 12,
   "metadata": {},
   "outputs": [],
   "source": [
    "df['학력 파싱'] = df['학력'].apply(lambda x : check_free(x))\n",
    "df['parse school']=df['학력 파싱'].apply(lambda x: check_school_in_list(x))"
   ]
  },
  {
   "cell_type": "code",
   "execution_count": 13,
   "metadata": {},
   "outputs": [],
   "source": [
    "def list_destruct(x):\n",
    "    res = []\n",
    "    for idx in x:\n",
    "        res.extend(idx)\n",
    "    \n",
    "    return res\n",
    "        "
   ]
  },
  {
   "cell_type": "code",
   "execution_count": 14,
   "metadata": {},
   "outputs": [],
   "source": [
    "df['parse list'] = df['parse school'].apply(lambda x : list_destruct(x)) "
   ]
  },
  {
   "cell_type": "code",
   "execution_count": 15,
   "metadata": {},
   "outputs": [],
   "source": [
    "def read_parsing_string(x):\n",
    "    place = []\n",
    "    condition = []\n",
    "    plus_alpha = []\n",
    "    res = []\n",
    "    \n",
    "    flag = 0    \n",
    "    err=0\n",
    "    for idx in x:\n",
    "        \n",
    "        ## 고등학교 대학교 석사 박사 1\n",
    "        ## 졸업, 재학 2      고등학교 졸업은 12, \n",
    "        ## 석사, 박사는 뒤에 공백이면 재학 붙게\n",
    "        ## 이상 미만 등 3\n",
    "        \n",
    "        proc = idx.split(' ')\n",
    "        div = proc[0]\n",
    "        if div =='1':\n",
    "            #print('1')\n",
    "            if flag!=1 and flag!=0:\n",
    "                res.extend(list_multiply(place,condition,plus_alpha))\n",
    "                place = []\n",
    "                condition = []\n",
    "                plus_alpha = []\n",
    "                \n",
    "            place.extend(proc[1:])\n",
    "            flag=1\n",
    "            \n",
    "        elif div =='2':\n",
    "            #print('2')\n",
    "            if flag!=1 and flag!=2:\n",
    "                #print('err in '+idx)\n",
    "                err=1\n",
    "            else:\n",
    "                condition.extend(proc[1:])\n",
    "                flag=2\n",
    "          \n",
    "        elif div =='3':\n",
    "            #print('3')\n",
    "            if flag == 0:\n",
    "                #print('err in ' + idx)\n",
    "                err=1\n",
    "            else:\n",
    "                plus_alpha.extend(proc[1:])\n",
    "                flag=3\n",
    "            \n",
    "\n",
    "        elif div == '12':\n",
    "\n",
    "            if flag!=1 and flag!=0:\n",
    "                res.extend(list_multiply(place,condition,plus_alpha))\n",
    "                place = []\n",
    "                condition = []\n",
    "                plus_alpha = []\n",
    "            \n",
    "            place.append(proc[1])\n",
    "            condition.append(proc[2])    \n",
    "            flag=2\n",
    "        \n",
    "        elif div =='23':\n",
    "            if flag!=1 and flag!=0:\n",
    "                condition.append(proc[1]+\" \"+proc[2])\n",
    "                #plus_alpha.append()\n",
    "                flag=3\n",
    "            else:\n",
    "                #print('err in ' + idx)\n",
    "                err=1\n",
    "        \n",
    "    if '석사' in place or '박사' in place or '학사' in place:\n",
    "        \n",
    "        if len(condition)==0 and len(plus_alpha)==0:\n",
    "            #print(place)\n",
    "            condition.append('졸업')\n",
    "    \n",
    "    if err!=1:\n",
    "        res.extend(list_multiply(place,condition,plus_alpha))\n",
    "    \n",
    "    return res"
   ]
  },
  {
   "cell_type": "code",
   "execution_count": 16,
   "metadata": {},
   "outputs": [],
   "source": [
    "def list_multiply(x,y,z):\n",
    "    res = []\n",
    "    \n",
    "    if len(z)>0:\n",
    "        #print(x)\n",
    "        #print(y)\n",
    "        #print(z)\n",
    "        if len(y)==0:\n",
    "            res = [x[0]+\" \"+z[0]]\n",
    "        else:\n",
    "            res = [x[0]+\" \"+y[0]+\" \"+z[0]]\n",
    "    else:\n",
    "        for idx in x:\n",
    "            for kda in y:\n",
    "                res.append(str(idx)+\" \"+str(kda))\n",
    "    \n",
    "    return res"
   ]
  },
  {
   "cell_type": "code",
   "execution_count": 17,
   "metadata": {},
   "outputs": [],
   "source": [
    "df['parse school res'] = df['parse list'].apply(lambda x: read_parsing_string(x)) "
   ]
  },
  {
   "cell_type": "code",
   "execution_count": 18,
   "metadata": {},
   "outputs": [
    {
     "name": "stderr",
     "output_type": "stream",
     "text": [
      "C:\\Users\\moggi\\Anaconda3\\lib\\site-packages\\jpype\\_core.py:210: UserWarning: \n",
      "-------------------------------------------------------------------------------\n",
      "Deprecated: convertStrings was not specified when starting the JVM. The default\n",
      "behavior in JPype will be False starting in JPype 0.8. The recommended setting\n",
      "for new code is convertStrings=False.  The legacy value of True was assumed for\n",
      "this session. If you are a user of an application that reported this warning,\n",
      "please file a ticket with the developer.\n",
      "-------------------------------------------------------------------------------\n",
      "\n",
      "  \"\"\")\n"
     ]
    }
   ],
   "source": [
    "okt = Okt()"
   ]
  },
  {
   "cell_type": "code",
   "execution_count": 19,
   "metadata": {},
   "outputs": [],
   "source": [
    "def tokenize(doc):\n",
    "    # norm은 정규화, stem은 근어로 표시하기를 나타냄\n",
    "    return ['/'.join(t) for t in okt.pos(doc, norm=True, stem=True)]"
   ]
  },
  {
   "cell_type": "code",
   "execution_count": 20,
   "metadata": {},
   "outputs": [],
   "source": [
    "pattern_front_dash = re.compile(r\".*(?=\\/)\")\n",
    "pattern_ggage = re.compile(r\"까지\")\n",
    "pattern_butu = re.compile(r\"부터\")\n",
    "pattern_menun = re.compile(r'매년')\n",
    "pattern_mewal = re.compile(r'매월')\n",
    "pattern_me = re.compile(r'^매\\/')\n",
    "pattern_d_wave = re.compile(r'[~∼]')\n",
    "pattern_cha = re.compile(r\"^차\\/\")\n",
    "pattern_yeon = re.compile(r\"^연\\/\")\n",
    "pattern_front_Punctuation = re.compile(r\".*(?=\\/Punctuation)\")\n",
    "pattern_only_num = re.compile(r\"[0-9]+\")"
   ]
  },
  {
   "cell_type": "code",
   "execution_count": 21,
   "metadata": {},
   "outputs": [],
   "source": [
    "def token_num(x):\n",
    "    \n",
    "    res = []\n",
    "    Punctuation_list = []\n",
    "    for idx in x:\n",
    "        if \"Number\" in idx:\n",
    "            \n",
    "            ## 2019.12 \n",
    "            if \".\" in idx:\n",
    "                dot_process = pattern_front_dash.search(idx).group()\n",
    "                dot_list=pattern_only_num.findall(dot_process)\n",
    "                res.append(dot_list[0])\n",
    "                res.append(\".\")\n",
    "                res.append(dot_list[1])\n",
    "            elif \"-\" in idx:\n",
    "                dot_process = pattern_front_dash.search(idx).group()\n",
    "                dot_list=pattern_only_num.findall(dot_process)\n",
    "                res.append(dot_list[0])\n",
    "                res.append(\".\")\n",
    "                res.append(dot_list[1])\n",
    "            \n",
    "            elif pattern_d_wave.search(idx):\n",
    "                wave_process = pattern_front_dash.search(idx).group()\n",
    "                wave_list=pattern_only_num.findall(wave_process)\n",
    "                res.append(wave_list[0])\n",
    "                res.append(\"~\")\n",
    "                res.append(wave_list[1])\n",
    "\n",
    "            else:\n",
    "                res.append(pattern_front_dash.search(idx).group())\n",
    "        elif \"까지\" in idx:\n",
    "            \n",
    "            index_ggage = x.index(idx)\n",
    "            if \"Number\" in x[index_ggage-1] or \"Number\" in x[index_ggage-2]:\n",
    "                res.append(\"까지\")\n",
    "                \n",
    "        elif \"부터\" in idx:\n",
    "            res.append(\"부터\")\n",
    "        elif \"매년\" in idx:\n",
    "            res.append(\"매년\")\n",
    "        elif \"매월\" in idx:\n",
    "            res.append(\"매월\")\n",
    "        elif \"학기\" in idx:\n",
    "            res.append(\"학기\")\n",
    "        elif pattern_me.search(idx):\n",
    "            res.append(\"매\")\n",
    "        elif \"상시\" in idx:\n",
    "            res.append(\"상시\")\n",
    "        elif pattern_d_wave.search(idx):\n",
    "            res.append(\"~\")\n",
    "        elif pattern_cha.search(idx):\n",
    "            res.append(\"차\")\n",
    "        elif pattern_yeon.search(idx):\n",
    "            res.append(\"연\")\n",
    "        elif \"/Punctuation\" in idx:\n",
    "            res.append(pattern_front_Punctuation.search(idx).group())\n",
    "            if pattern_front_Punctuation.search(idx).group() not in Punctuation_list:\n",
    "                Punctuation_list.append(pattern_front_Punctuation.search(idx).group())\n",
    "                \n",
    "    \n",
    "    return res"
   ]
  },
  {
   "cell_type": "code",
   "execution_count": 22,
   "metadata": {},
   "outputs": [],
   "source": [
    "df['token'] = df['신청기간'].apply(lambda x:tokenize(str(x)));"
   ]
  },
  {
   "cell_type": "code",
   "execution_count": 23,
   "metadata": {},
   "outputs": [],
   "source": [
    "df['num_token'] = df['token'].apply(lambda x : token_num(x))"
   ]
  },
  {
   "cell_type": "code",
   "execution_count": 27,
   "metadata": {},
   "outputs": [],
   "source": [
    "pattern_number = re.compile(r\"[0-9\\.]+\")\n",
    "pattern_not_number =re.compile(r\"[^0-9\\.]+\")\n",
    "pattern_year = re.compile(r\"년$\")\n",
    "pattern_month = re.compile(r\"월$\")\n",
    "pattern_day = re.compile(r\"일$\")\n",
    "pattern_only_num = re.compile(r\"[0-9]+\")\n",
    "pattern_cha = re.compile(r\"^차\\/\")\n",
    "pattern_yeon = re.compile(r\"^연\\/\")\n",
    "pattern_hoe = re.compile(r\"회\")\n",
    "pattern_number_only = re.compile(\"[0-9]+\")"
   ]
  },
  {
   "cell_type": "code",
   "execution_count": 28,
   "metadata": {},
   "outputs": [],
   "source": [
    "def process_time(x):\n",
    "    res=[]\n",
    "    process_list = []\n",
    "    flag = 0\n",
    "    max_flag = 0\n",
    "    waved = 0\n",
    "    every_year = 0\n",
    "    every_month = 0\n",
    "    \n",
    "    first_num_flag=0\n",
    "    \n",
    "    for idx in x:\n",
    "        \n",
    "        if every_year == 1 or \"매년\" in idx:\n",
    "            if flag <1:\n",
    "                flag =1\n",
    "            every_year=1\n",
    "        \n",
    "        if every_month ==1 or \"매월\" in idx:\n",
    "            if flag < 2:\n",
    "                flag = 2\n",
    "            every_month = 1\n",
    "        \n",
    "        ## 일단 차, 학기 앞 num 제거 19.1학기\n",
    "        ## 수정필\n",
    "        if idx in [\"차\",\"학기\"]: \n",
    "            #if \"학기\" in idx:\n",
    "            #    res.append(\".\".join(process_list) + \"학기\")\n",
    "            #else:\n",
    "            #    res.append(\".\".join(process_list) + \"차\")\n",
    "            ## 년만 제거 할게요 \n",
    "            if flag ==1 or flag == 0:\n",
    "                process_list = []\n",
    "                \n",
    "            else :\n",
    "                res.append(\".\".join(process_list[:-1]))\n",
    "                process_list = []\n",
    "            \n",
    "            flag = 0\n",
    "            \n",
    "        if \":\" in idx or pattern_hoe.search(idx):\n",
    "            continue\n",
    "        \n",
    "        #print(\"idx = \")\n",
    "        #print(idx)\n",
    "        #print(\"flag=\")\n",
    "        #print(flag)\n",
    "        #print(len(res))\n",
    "        #print(\"max_flag = \")\n",
    "        #print(max_flag)\n",
    "        #print(res)\n",
    "        \n",
    "        if flag == 3 or (first_num_flag==1 and flag==max_flag):\n",
    "            \n",
    "            if first_num_flag==0:\n",
    "                max_flag = flag\n",
    "                first_num_flag=1\n",
    "                \n",
    "            res.append(\".\".join(process_list))\n",
    "                        \n",
    "            \n",
    "            flag=0\n",
    "            process_list = []\n",
    "        ##print(x)\n",
    "        ##print(idx)\n",
    "        if pattern_number_only.search(idx):\n",
    "            ## 13 년도 이상\n",
    "            if (flag == 0 and int(pattern_number_only.search(idx).group())>12 and not pattern_day.search(idx)) or pattern_year.search(idx):\n",
    "                process_list.append(str(pattern_number_only.search(idx).group()) + \"년\")\n",
    "                flag=1\n",
    "            elif flag==1 or pattern_month.search(idx) or (flag==0 and int(pattern_number_only.search(idx).group())<13):\n",
    "                \n",
    "                ## 1월 / 2 월\n",
    "                if flag == 2:\n",
    "                    if first_num_flag==0:\n",
    "                        max_flag = flag\n",
    "                        first_num_flag=1\n",
    "                    res.append(\".\".join(process_list))\n",
    "                    process_list = []\n",
    "                    \n",
    "                process_list.append(str(pattern_number_only.search(idx).group())+\"월\")\n",
    "                flag=2\n",
    "                \n",
    "                \n",
    "            elif flag==2 or pattern_day.search(idx):\n",
    "                process_list.append(str(pattern_number_only.search(idx).group())+\"일\")\n",
    "                flag=3\n",
    "            ##print(flag)\n",
    "            ##print(res)\n",
    "        else:\n",
    "            if idx ==\"~\":\n",
    "                if len(process_list)>0:\n",
    "                    res.append(\".\".join(process_list))\n",
    "                    process_list = []\n",
    "                if first_num_flag==0:\n",
    "                    max_flag = flag\n",
    "                    first_num_flag=1\n",
    "                    \n",
    "                waved = 1\n",
    "                res.append(\"~\")\n",
    "                flag=0\n",
    "                \n",
    "            if idx in [\"까지\",\"부터\",\"매년\",\"매월\"]:\n",
    "                \n",
    "                if len(res)==0 and idx in [\"까지\",\"부터\"]:\n",
    "                    max_flag = flag\n",
    "                \n",
    "                    res.append(\".\".join(process_list))\n",
    "                    flag=0\n",
    "                    process_list = []\n",
    "                \n",
    "                res.append(idx)\n",
    "            \n",
    "            #if \"회\" in idx:\n",
    "            #    res.append(idx)\n",
    "            \n",
    "    if flag>=1 and len(process_list)>0:\n",
    "        res.append(\".\".join(process_list))\n",
    "    \n",
    "    return res"
   ]
  },
  {
   "cell_type": "code",
   "execution_count": 29,
   "metadata": {},
   "outputs": [],
   "source": [
    "df['process_timed']=df['num_token'].apply(lambda x : process_time(x))"
   ]
  },
  {
   "cell_type": "code",
   "execution_count": 30,
   "metadata": {},
   "outputs": [],
   "source": [
    "pattern_numyear = re.compile(\"[0-9]*(?=년)\")\n",
    "pattern_nummonth = re.compile(\"[0-9]*(?=월)\")\n",
    "pattern_numday = re.compile(\"[0-9]*(?=일)\")"
   ]
  },
  {
   "cell_type": "code",
   "execution_count": 31,
   "metadata": {},
   "outputs": [],
   "source": [
    "def process_time_to_date_time(x):\n",
    "    \n",
    "    res_start = []\n",
    "    res_end = []\n",
    "    \n",
    "    \n",
    "    ## start, end list에 번갈아가면서 입력\n",
    "    start_or_end_date=1\n",
    "    \n",
    "    for idx in x:\n",
    "        ## 하나라도 날짜가 매칭되면 res에 넣는다.\n",
    "        input_flag = 0\n",
    "        year_flag = 0\n",
    "        month_flag = 0\n",
    "        day_flag =0\n",
    "        \n",
    "        \n",
    "        year = datetime.datetime.now().year ## 추후 크롤링 일자로 대체\n",
    "        \n",
    "        ## TODO '매월' 처리 ????\n",
    "        if idx ==\"매월\" or idx == \"매년\":\n",
    "            continue\n",
    "        \n",
    "        if idx == \"까지\" and len(res_end)==0:\n",
    "            res_end = res_start\n",
    "            res_start=[]\n",
    "        \n",
    "        month = datetime.datetime.now().month \n",
    "        \n",
    "        ## day? start에는 1 end에는 30\n",
    "        day = -1\n",
    "        \n",
    "        if pattern_numyear.search(idx):\n",
    "            year=int(pattern_numyear.search(idx).group())\n",
    "            if int(year/100)==0:\n",
    "                year = year + 2000\n",
    "            \n",
    "            year_flag = 1\n",
    "            input_flag=1\n",
    "        \n",
    "        if pattern_nummonth.search(idx):\n",
    "            month = int(pattern_nummonth.search(idx).group())\n",
    "            month_flag = 1\n",
    "            input_flag=1\n",
    "        \n",
    "        if pattern_numday.search(idx):\n",
    "         \n",
    "            day = int(pattern_numday.search(idx).group())\n",
    "            input_flag=1\n",
    "            \n",
    "        if input_flag==1:\n",
    "            ##print(x)\n",
    "            ##print(month)\n",
    "            if start_or_end_date ==1:\n",
    "                if day == -1:\n",
    "                    day = 1\n",
    "               \n",
    "                res_start.append(datetime.datetime(year = year, month = month,day =day))\n",
    "                start_or_end_date=2\n",
    "                \n",
    "            elif start_or_end_date==2:\n",
    "                if day == -1:\n",
    "                    day = 28\n",
    "                res_end.append(datetime.datetime(year = year, month = month,day =day))\n",
    "                start_or_end_date=1\n",
    "                \n",
    "    return res_start,res_end"
   ]
  },
  {
   "cell_type": "code",
   "execution_count": 41,
   "metadata": {},
   "outputs": [],
   "source": [
    "def for_test_db_date(x):\n",
    "    if len(x)>0:\n",
    "        return x[0]\n",
    "    else:\n",
    "        return None"
   ]
  },
  {
   "cell_type": "code",
   "execution_count": 42,
   "metadata": {},
   "outputs": [],
   "source": [
    "df['start_date']= df['process_timed'].apply(lambda x: for_test_db_date(process_time_to_date_time(x)[0]))"
   ]
  },
  {
   "cell_type": "code",
   "execution_count": 44,
   "metadata": {},
   "outputs": [],
   "source": [
    "df['end_date']= df['process_timed'].apply(lambda x: for_test_db_date(process_time_to_date_time(x)[1]))"
   ]
  },
  {
   "cell_type": "code",
   "execution_count": 45,
   "metadata": {
    "scrolled": false
   },
   "outputs": [
    {
     "data": {
      "text/plain": [
       "Index(['Unnamed: 0', 'id', 'title', 'hash tag', '설명', '연령', '학력', '전공', '취업상태',\n",
       "       '특화분야', '기업', '신청기간', '기타내용', 'start_age', 'end_age', 'check less',\n",
       "       'age_except_less', 'age_except_more', 'age except', 'hash_tag', '학력 파싱',\n",
       "       'parse school', 'parse list', 'parse school res', 'token', 'num_token',\n",
       "       'process_timed', 'start_date', 'end_date', 'url'],\n",
       "      dtype='object')"
      ]
     },
     "execution_count": 45,
     "metadata": {},
     "output_type": "execute_result"
    }
   ],
   "source": [
    "df.columns"
   ]
  },
  {
   "cell_type": "code",
   "execution_count": 46,
   "metadata": {},
   "outputs": [],
   "source": [
    "url_id_base = \"https://www.youthcenter.go.kr/jynEmpSptNew/jynEmpSptGuide.do?bizId=\""
   ]
  },
  {
   "cell_type": "code",
   "execution_count": 47,
   "metadata": {},
   "outputs": [],
   "source": [
    "df['url']=df['id'].apply(lambda x: url_id_base+str(x))"
   ]
  },
  {
   "cell_type": "code",
   "execution_count": 48,
   "metadata": {
    "scrolled": false
   },
   "outputs": [
    {
     "data": {
      "text/plain": [
       "Index(['Unnamed: 0', 'id', 'title', 'hash tag', '설명', '연령', '학력', '전공', '취업상태',\n",
       "       '특화분야', '기업', '신청기간', '기타내용', 'start_age', 'end_age', 'check less',\n",
       "       'age_except_less', 'age_except_more', 'age except', 'hash_tag', '학력 파싱',\n",
       "       'parse school', 'parse list', 'parse school res', 'token', 'num_token',\n",
       "       'process_timed', 'start_date', 'end_date', 'url'],\n",
       "      dtype='object')"
      ]
     },
     "execution_count": 48,
     "metadata": {},
     "output_type": "execute_result"
    }
   ],
   "source": [
    "df.columns"
   ]
  },
  {
   "cell_type": "code",
   "execution_count": 50,
   "metadata": {},
   "outputs": [
    {
     "data": {
      "text/plain": [
       "0            NaT\n",
       "1            NaT\n",
       "2     2019-10-01\n",
       "3            NaT\n",
       "4            NaT\n",
       "5     2018-07-01\n",
       "6     2018-07-31\n",
       "7            NaT\n",
       "8            NaT\n",
       "9            NaT\n",
       "10    2019-01-01\n",
       "11           NaT\n",
       "12           NaT\n",
       "13           NaT\n",
       "14    2019-01-01\n",
       "15           NaT\n",
       "16    2019-10-01\n",
       "17           NaT\n",
       "18           NaT\n",
       "19           NaT\n",
       "20           NaT\n",
       "21    2019-09-01\n",
       "22           NaT\n",
       "23           NaT\n",
       "24           NaT\n",
       "25           NaT\n",
       "26           NaT\n",
       "27    2019-01-22\n",
       "28           NaT\n",
       "29           NaT\n",
       "         ...    \n",
       "111          NaT\n",
       "112          NaT\n",
       "113          NaT\n",
       "114          NaT\n",
       "115          NaT\n",
       "116          NaT\n",
       "117          NaT\n",
       "118          NaT\n",
       "119          NaT\n",
       "120          NaT\n",
       "121          NaT\n",
       "122          NaT\n",
       "123          NaT\n",
       "124          NaT\n",
       "125   2018-07-01\n",
       "126          NaT\n",
       "127          NaT\n",
       "128   2019-11-01\n",
       "129          NaT\n",
       "130          NaT\n",
       "131   2019-02-19\n",
       "132          NaT\n",
       "133   2018-10-01\n",
       "134          NaT\n",
       "135          NaT\n",
       "136   2019-05-01\n",
       "137          NaT\n",
       "138   2018-05-15\n",
       "139   2019-03-01\n",
       "140          NaT\n",
       "Name: start_date, Length: 141, dtype: datetime64[ns]"
      ]
     },
     "execution_count": 50,
     "metadata": {},
     "output_type": "execute_result"
    }
   ],
   "source": [
    "df['start_date']"
   ]
  },
  {
   "cell_type": "code",
   "execution_count": 51,
   "metadata": {},
   "outputs": [],
   "source": [
    "df[['title','url','설명','hash tag','start_age','end_age','start_date','end_date','parse school res']].to_csv(\"temp_db2.csv\",encoding=\"utf-8-sig\")"
   ]
  },
  {
   "cell_type": "code",
   "execution_count": null,
   "metadata": {},
   "outputs": [],
   "source": []
  },
  {
   "cell_type": "code",
   "execution_count": null,
   "metadata": {},
   "outputs": [],
   "source": []
  }
 ],
 "metadata": {
  "kernelspec": {
   "display_name": "Python 3",
   "language": "python",
   "name": "python3"
  },
  "language_info": {
   "codemirror_mode": {
    "name": "ipython",
    "version": 3
   },
   "file_extension": ".py",
   "mimetype": "text/x-python",
   "name": "python",
   "nbconvert_exporter": "python",
   "pygments_lexer": "ipython3",
   "version": "3.7.3"
  }
 },
 "nbformat": 4,
 "nbformat_minor": 2
}
