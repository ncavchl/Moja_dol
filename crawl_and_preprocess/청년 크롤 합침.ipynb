{
 "cells": [
  {
   "cell_type": "code",
   "execution_count": 1,
   "metadata": {},
   "outputs": [],
   "source": [
    "from bs4 import BeautifulSoup\n",
    "import time\n",
    "import os\n",
    "import urllib.request\n",
    "from urllib.error import URLError, HTTPError\n",
    "\n",
    "from selenium import webdriver\n",
    "import re\n",
    "import pandas as pd"
   ]
  },
  {
   "cell_type": "code",
   "execution_count": null,
   "metadata": {},
   "outputs": [],
   "source": [
    "path = \"C:/chromedriver.exe\" # chromedriver.exe 다운로드 필수\n",
    "driver = webdriver.Chrome(path)"
   ]
  },
  {
   "cell_type": "code",
   "execution_count": null,
   "metadata": {},
   "outputs": [],
   "source": [
    "url1='https://www.youthcenter.go.kr/jynEmpSptNew/jynEmpSptList.do?pageIndex=1&currentPage='\n",
    "url2='&sortField=exprRnkn&setZzimBusiId=&bizId=&plcySel=&chargerOrgCdSel=&sortField2=exprRnkn&higdBlowAccrYnSel=&hiscEnrlYnSel=&hiscGrdnPrerYnSel=&higdAccrYnSel=&univEnrlYnSel=&univGrdnAccrYnSel=&drAccrYnSel=&majrSglSersYnSel=&majrSocySersYnSel=&majrBsflSersYnSel=&majrNtssSersYnSel=&majrEngrSersYnSel=&majrEnspSersYnSel=&splzRlmSmpzEmpmYnSel=&splzRlmFmleYnSel=&splzRlmLigYnSel=&splzRlmDspnYnSel=&splzRlmSdrYnSel=&splzRlmFrmlYnSel=&empnHffcYnSel=&empyBsmgYnSel=&empmUnpnYnSel=&scroll=1&btnSearchTxt=&srchAge=&higdBlowAccrYn=on&hiscEnrlYn=on&hiscGrdnPrerYn=on&higdAccrYn=on&univEnrlYn=on&univGrdnAccrYn=on&drAccrYn=on&majrSglSersYn=on&majrSocySersYn=on&majrBsflSersYn=on&majrNtssSersYn=on&majrEngrSersYn=on&majrEnspSersYn=on&splzRlmSmpzEmpmYn=on&splzRlmFmleYn=on&splzRlmLigYn=on&splzRlmDspnYn=on&splzRlmSdrYn=on&splzRlmFrmlYn=on&empnHffcYn=on&empyBsmgYn=on&empmUnpnYn=on'\n",
    "page_num=1"
   ]
  },
  {
   "cell_type": "code",
   "execution_count": null,
   "metadata": {},
   "outputs": [],
   "source": [
    "regex_digit = re.compile(\"\\'\\d+\\'\")"
   ]
  },
  {
   "cell_type": "code",
   "execution_count": null,
   "metadata": {},
   "outputs": [],
   "source": [
    "regex_digit2 = re.compile(\"\\d+\")"
   ]
  },
  {
   "cell_type": "markdown",
   "metadata": {},
   "source": [
    "while로 교체필요"
   ]
  },
  {
   "cell_type": "code",
   "execution_count": 28,
   "metadata": {},
   "outputs": [],
   "source": [
    "def id_crawl():\n",
    "    \n",
    "    res_list=[]\n",
    "    \n",
    "    for page_num in range(1,22):\n",
    "        driver.get(url1 + str(page_num)+url2)\n",
    "        html = driver.page_source\n",
    "        soup = BeautifulSoup(html, \"html.parser\")\n",
    "        res_ids = regex_digit.findall(str(soup.select('#jynEmpSptList1')))\n",
    "        res_list.extend(res_ids)\n",
    "        \n",
    "    return res_list"
   ]
  },
  {
   "cell_type": "code",
   "execution_count": 29,
   "metadata": {},
   "outputs": [],
   "source": [
    "id_list = id_crawl()"
   ]
  },
  {
   "cell_type": "code",
   "execution_count": 30,
   "metadata": {},
   "outputs": [],
   "source": [
    "def del_up_dot(ids_list):\n",
    "    res = []\n",
    "    for i in ids_list:\n",
    "        x=regex_digit2.findall(i)\n",
    "        res.extend(x)\n",
    "        \n",
    "    return res"
   ]
  },
  {
   "cell_type": "code",
   "execution_count": 31,
   "metadata": {},
   "outputs": [],
   "source": [
    "id_list2 = del_up_dot(id_list)"
   ]
  },
  {
   "cell_type": "code",
   "execution_count": 35,
   "metadata": {},
   "outputs": [],
   "source": [
    "url_id_base = \"https://www.youthcenter.go.kr/jynEmpSptNew/jynEmpSptGuide.do?bizId=\""
   ]
  },
  {
   "cell_type": "code",
   "execution_count": 36,
   "metadata": {},
   "outputs": [],
   "source": [
    "col_list = ['id','title','hash tag','설명','연령','학력','전공','취업상태','특화분야','기업','신청기간','기타내용']"
   ]
  },
  {
   "cell_type": "code",
   "execution_count": 37,
   "metadata": {},
   "outputs": [],
   "source": [
    "pattern = re.compile(r'[^\\t\\n]+')"
   ]
  },
  {
   "cell_type": "code",
   "execution_count": 38,
   "metadata": {},
   "outputs": [],
   "source": [
    "info_table=pd.DataFrame(columns=col_list)"
   ]
  },
  {
   "cell_type": "code",
   "execution_count": 44,
   "metadata": {},
   "outputs": [],
   "source": [
    "def chung_crawl(ids_list):\n",
    "    num_df = 0\n",
    "    col_list = ['id','title','hash tag','설명','연령','학력','전공','취업상태','특화분야','기업','신청기간','기타내용']\n",
    "    index_list = ['연령','학력','전공','취업상태','특화분야','기업','신청기간','기타내용']\n",
    "    info_table=pd.DataFrame(columns=col_list)\n",
    "    for i in ids_list:\n",
    "        driver.get(url_id_base+str(i))\n",
    "        html = driver.page_source\n",
    "        soup = BeautifulSoup(html, \"html.parser\")\n",
    "    \n",
    "        sample_list=[]\n",
    "        exp=[]\n",
    "        exp.append(i)\n",
    "        idx=soup.select('h3.doc_tit02')[0].text\n",
    "        string1 = pattern.findall(str(idx))\n",
    "        exp.append(string1[0])\n",
    "        if len(string1)>=3:\n",
    "            exp.append(string1[2])\n",
    "        else:\n",
    "            exp.append('-')\n",
    "    \n",
    "    \n",
    "        idx=soup.select('h4.bullet-arrow1')[0].text\n",
    "        string2=pattern.findall(str(idx))\n",
    "        if len(string2)!=0:\n",
    "            exp.append(string2[0])\n",
    "        else:\n",
    "            exp.append('-')\n",
    "  \n",
    "    \n",
    "        idx=soup.select('ul.common_table02')[0].text\n",
    "        string=pattern.findall(str(idx))\n",
    "\n",
    "        remove_space = list(filter(lambda x: x!=' ', string))\n",
    "    \n",
    "        for kda in index_list:\n",
    "            num=remove_space.index(kda)\n",
    "            exp.append(remove_space[num+1])\n",
    "    \n",
    "\n",
    "        info_table.loc[num_df]=exp\n",
    "        num_df = num_df+1\n",
    "    return info_table"
   ]
  },
  {
   "cell_type": "code",
   "execution_count": 45,
   "metadata": {},
   "outputs": [],
   "source": [
    "df = chung_crawl(id_list2)"
   ]
  },
  {
   "cell_type": "code",
   "execution_count": 47,
   "metadata": {},
   "outputs": [],
   "source": [
    "df['id'] = df['id'].apply(lambda x: url_id_base+str(x))"
   ]
  },
  {
   "cell_type": "code",
   "execution_count": 51,
   "metadata": {},
   "outputs": [
    {
     "data": {
      "text/plain": [
       "'https://www.youthcenter.go.kr/jynEmpSptNew/jynEmpSptGuide.do?bizId=201808230013'"
      ]
     },
     "execution_count": 51,
     "metadata": {},
     "output_type": "execute_result"
    }
   ],
   "source": [
    "df.loc[1]['id']"
   ]
  },
  {
   "cell_type": "code",
   "execution_count": null,
   "metadata": {},
   "outputs": [],
   "source": [
    "pattern_"
   ]
  }
 ],
 "metadata": {
  "kernelspec": {
   "display_name": "Python 3",
   "language": "python",
   "name": "python3"
  },
  "language_info": {
   "codemirror_mode": {
    "name": "ipython",
    "version": 3
   },
   "file_extension": ".py",
   "mimetype": "text/x-python",
   "name": "python",
   "nbconvert_exporter": "python",
   "pygments_lexer": "ipython3",
   "version": "3.7.3"
  }
 },
 "nbformat": 4,
 "nbformat_minor": 2
}
